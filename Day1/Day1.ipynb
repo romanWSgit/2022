{
 "cells": [
  {
   "cell_type": "markdown",
   "id": "31a505ab",
   "metadata": {},
   "source": [
    "# Advent of Code 2022"
   ]
  },
  {
   "cell_type": "markdown",
   "id": "02b88c57",
   "metadata": {},
   "source": [
    "# Day1:\n"
   ]
  },
  {
   "cell_type": "markdown",
   "id": "decef0ca-6d9a-4447-8c1d-5e6df7f71848",
   "metadata": {},
   "source": [
    "### Part One"
   ]
  },
  {
   "cell_type": "code",
   "execution_count": 1,
   "id": "0a88bab5",
   "metadata": {},
   "outputs": [],
   "source": [
    "f = open(\"input.txt\")\n",
    "lines = readlines(f)\n",
    "close(f)"
   ]
  },
  {
   "cell_type": "code",
   "execution_count": 2,
   "id": "08af3aa8",
   "metadata": {},
   "outputs": [
    {
     "data": {
      "text/plain": [
       "2252-element Vector{String}:\n",
       " \"7569\"\n",
       " \"1357\"\n",
       " \"10134\"\n",
       " \"4696\"\n",
       " \"4423\"\n",
       " \"8869\"\n",
       " \"3562\"\n",
       " \"6597\"\n",
       " \"\"\n",
       " \"4038\"\n",
       " \"9038\"\n",
       " \"1352\"\n",
       " \"8005\"\n",
       " ⋮\n",
       " \"7766\"\n",
       " \"9118\"\n",
       " \"\"\n",
       " \"3997\"\n",
       " \"6810\"\n",
       " \"6988\"\n",
       " \"9613\"\n",
       " \"7982\"\n",
       " \"8594\"\n",
       " \"1229\"\n",
       " \"7588\"\n",
       " \"3507\""
      ]
     },
     "execution_count": 2,
     "metadata": {},
     "output_type": "execute_result"
    }
   ],
   "source": [
    "lines"
   ]
  },
  {
   "cell_type": "code",
   "execution_count": 3,
   "id": "2d475d17",
   "metadata": {},
   "outputs": [],
   "source": [
    "m = [[]]\n",
    "start = 1\n",
    "for i in 1:length(lines)\n",
    "    if lines[i]==\"\"\n",
    "        push!(m, [parse(Int, x) for x in lines[start:i-1]])\n",
    "        start = i + 1\n",
    "    end \n",
    "end\n",
    "push!(m, [parse(Int, x) for x in lines[start:end]])\n",
    "popfirst!(m);"
   ]
  },
  {
   "cell_type": "code",
   "execution_count": 4,
   "id": "7b8e2054",
   "metadata": {},
   "outputs": [
    {
     "data": {
      "text/plain": [
       "251-element Vector{Int64}:\n",
       " 47207\n",
       " 41509\n",
       " 51243\n",
       " 60985\n",
       " 50645\n",
       " 53528\n",
       " 51782\n",
       " 46982\n",
       " 56592\n",
       " 43982\n",
       " 29292\n",
       " 69625\n",
       " 36259\n",
       "     ⋮\n",
       " 48252\n",
       " 40075\n",
       " 39792\n",
       " 52664\n",
       " 43827\n",
       " 33521\n",
       " 63138\n",
       " 52399\n",
       " 41570\n",
       " 36264\n",
       " 59089\n",
       " 56308"
      ]
     },
     "execution_count": 4,
     "metadata": {},
     "output_type": "execute_result"
    }
   ],
   "source": [
    "sumArray = [sum(x) for x in m]"
   ]
  },
  {
   "cell_type": "code",
   "execution_count": 5,
   "id": "abe63c84-830f-486e-a02c-e7c8dc5fe4a0",
   "metadata": {},
   "outputs": [
    {
     "name": "stdout",
     "output_type": "stream",
     "text": [
      "(72240, 236)\n"
     ]
    },
    {
     "data": {
      "text/plain": [
       "72240"
      ]
     },
     "execution_count": 5,
     "metadata": {},
     "output_type": "execute_result"
    }
   ],
   "source": [
    "max = findmax(sumArray)\n",
    "println(max)\n",
    "sol1 = max[1]"
   ]
  },
  {
   "cell_type": "markdown",
   "id": "6b52ffb7-22f4-404a-ad24-f5524cb0b25b",
   "metadata": {},
   "source": [
    "### Part Two"
   ]
  },
  {
   "cell_type": "code",
   "execution_count": 6,
   "id": "ebf72d07-e333-41e7-81f2-3806069923ab",
   "metadata": {},
   "outputs": [
    {
     "data": {
      "text/plain": [
       "251-element Vector{Int64}:\n",
       " 72240\n",
       " 69625\n",
       " 69092\n",
       " 66996\n",
       " 66757\n",
       " 66449\n",
       " 66170\n",
       " 65848\n",
       " 65595\n",
       " 64892\n",
       " 64501\n",
       " 63767\n",
       " 63447\n",
       "     ⋮\n",
       " 21904\n",
       " 21648\n",
       " 21492\n",
       " 20562\n",
       " 16519\n",
       " 14299\n",
       " 10822\n",
       " 10711\n",
       "  9115\n",
       "  8158\n",
       "  7848\n",
       "  3375"
      ]
     },
     "execution_count": 6,
     "metadata": {},
     "output_type": "execute_result"
    }
   ],
   "source": [
    "sortedSumArray = sort(sumArray, rev=true)"
   ]
  },
  {
   "cell_type": "code",
   "execution_count": 7,
   "id": "36071405-d10a-4719-b338-21a6a7fea00b",
   "metadata": {},
   "outputs": [
    {
     "data": {
      "text/plain": [
       "210957"
      ]
     },
     "execution_count": 7,
     "metadata": {},
     "output_type": "execute_result"
    }
   ],
   "source": [
    "sol2 = sum(sortedSumArray[1:3])"
   ]
  }
 ],
 "metadata": {
  "kernelspec": {
   "display_name": "Julia 1.8.3",
   "language": "julia",
   "name": "julia-1.8"
  },
  "language_info": {
   "file_extension": ".jl",
   "mimetype": "application/julia",
   "name": "julia",
   "version": "1.8.3"
  }
 },
 "nbformat": 4,
 "nbformat_minor": 5
}
