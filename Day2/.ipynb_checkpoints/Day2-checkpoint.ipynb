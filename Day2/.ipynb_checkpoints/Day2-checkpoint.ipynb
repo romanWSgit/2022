{
 "cells": [
  {
   "cell_type": "markdown",
   "id": "31a505ab",
   "metadata": {},
   "source": [
    "# Advent of Code 2022"
   ]
  },
  {
   "cell_type": "markdown",
   "id": "02b88c57",
   "metadata": {},
   "source": [
    "# Day2:\n"
   ]
  },
  {
   "cell_type": "markdown",
   "id": "c95f5776-477f-4b11-be54-046e8c54c830",
   "metadata": {},
   "source": [
    "### Part One"
   ]
  },
  {
   "cell_type": "code",
   "execution_count": 3,
   "id": "0a88bab5",
   "metadata": {},
   "outputs": [],
   "source": [
    "f = open(\"input.txt\")\n",
    "lines = readlines(f)\n",
    "close(f)"
   ]
  },
  {
   "cell_type": "code",
   "execution_count": 4,
   "id": "08af3aa8",
   "metadata": {},
   "outputs": [
    {
     "data": {
      "text/plain": [
       "2500-element Vector{String}:\n",
       " \"C Z\"\n",
       " \"C Z\"\n",
       " \"A X\"\n",
       " \"A X\"\n",
       " \"B Z\"\n",
       " \"B Z\"\n",
       " \"B Z\"\n",
       " \"A Z\"\n",
       " \"B X\"\n",
       " \"A X\"\n",
       " \"A X\"\n",
       " \"A X\"\n",
       " \"C Z\"\n",
       " ⋮\n",
       " \"A X\"\n",
       " \"A X\"\n",
       " \"C Y\"\n",
       " \"B X\"\n",
       " \"C X\"\n",
       " \"A Z\"\n",
       " \"A Z\"\n",
       " \"A X\"\n",
       " \"C Z\"\n",
       " \"C Y\"\n",
       " \"C Z\"\n",
       " \"C Y\""
      ]
     },
     "execution_count": 4,
     "metadata": {},
     "output_type": "execute_result"
    }
   ],
   "source": [
    "lines"
   ]
  },
  {
   "cell_type": "code",
   "execution_count": 56,
   "id": "2d475d17",
   "metadata": {
    "tags": []
   },
   "outputs": [
    {
     "data": {
      "text/plain": [
       "2500-element Vector{Vector{SubString{String}}}:\n",
       " [\"C\", \"Z\"]\n",
       " [\"C\", \"Z\"]\n",
       " [\"A\", \"X\"]\n",
       " [\"A\", \"X\"]\n",
       " [\"B\", \"Z\"]\n",
       " [\"B\", \"Z\"]\n",
       " [\"B\", \"Z\"]\n",
       " [\"A\", \"Z\"]\n",
       " [\"B\", \"X\"]\n",
       " [\"A\", \"X\"]\n",
       " [\"A\", \"X\"]\n",
       " [\"A\", \"X\"]\n",
       " [\"C\", \"Z\"]\n",
       " ⋮\n",
       " [\"A\", \"X\"]\n",
       " [\"A\", \"X\"]\n",
       " [\"C\", \"Y\"]\n",
       " [\"B\", \"X\"]\n",
       " [\"C\", \"X\"]\n",
       " [\"A\", \"Z\"]\n",
       " [\"A\", \"Z\"]\n",
       " [\"A\", \"X\"]\n",
       " [\"C\", \"Z\"]\n",
       " [\"C\", \"Y\"]\n",
       " [\"C\", \"Z\"]\n",
       " [\"C\", \"Y\"]"
      ]
     },
     "execution_count": 56,
     "metadata": {},
     "output_type": "execute_result"
    }
   ],
   "source": [
    "m = [split(x) for x in lines]"
   ]
  },
  {
   "cell_type": "code",
   "execution_count": 65,
   "id": "cd445b04-fd91-4b00-813d-dff14696fb21",
   "metadata": {},
   "outputs": [
    {
     "data": {
      "text/plain": [
       "switchABC (generic function with 2 methods)"
      ]
     },
     "execution_count": 65,
     "metadata": {},
     "output_type": "execute_result"
    }
   ],
   "source": [
    "function switchABC(line) \n",
    "    a = line[1]\n",
    "    x = line[2]\n",
    "    a == \"A\" && x == \"X\"  ? 3 + 1 :\n",
    "    a == \"A\" && x == \"Y\"  ? 6 + 2 :\n",
    "    a == \"A\" && x == \"Z\"  ? 0 + 3 :\n",
    "    a == \"B\" && x == \"X\"  ? 0 + 1 :\n",
    "    a == \"B\" && x == \"Y\"  ? 3 + 2 :\n",
    "    a == \"B\" && x == \"Z\"  ? 6 + 3 :\n",
    "    a == \"C\" && x == \"X\"  ? 6 + 1 :\n",
    "    a == \"C\" && x == \"Y\"  ? 0 + 2 :\n",
    "    a == \"C\" && x == \"Z\"  ? 3 + 3 :\n",
    "    0\n",
    "end"
   ]
  },
  {
   "cell_type": "code",
   "execution_count": 67,
   "id": "56cb0348-768a-4988-ab97-9e5456169272",
   "metadata": {},
   "outputs": [
    {
     "data": {
      "text/plain": [
       "2500-element Vector{Int64}:\n",
       " 6\n",
       " 6\n",
       " 4\n",
       " 4\n",
       " 9\n",
       " 9\n",
       " 9\n",
       " 3\n",
       " 1\n",
       " 4\n",
       " 4\n",
       " 4\n",
       " 6\n",
       " ⋮\n",
       " 4\n",
       " 4\n",
       " 2\n",
       " 1\n",
       " 7\n",
       " 3\n",
       " 3\n",
       " 4\n",
       " 6\n",
       " 2\n",
       " 6\n",
       " 2"
      ]
     },
     "execution_count": 67,
     "metadata": {},
     "output_type": "execute_result"
    }
   ],
   "source": [
    "s = [switchABC(x)  for x in m]"
   ]
  },
  {
   "cell_type": "code",
   "execution_count": 68,
   "id": "1e39bb7b-11f6-4678-8c4d-459072047881",
   "metadata": {},
   "outputs": [
    {
     "data": {
      "text/plain": [
       "14264"
      ]
     },
     "execution_count": 68,
     "metadata": {},
     "output_type": "execute_result"
    }
   ],
   "source": [
    "sol1 = sum(s)"
   ]
  },
  {
   "cell_type": "markdown",
   "id": "f16ab6db-8bd9-4b47-81a2-7bc4c81bf60a",
   "metadata": {},
   "source": [
    "### Part Two"
   ]
  },
  {
   "cell_type": "code",
   "execution_count": 73,
   "id": "64bce0c7-5395-4d24-a570-b7f56b30f8ee",
   "metadata": {},
   "outputs": [
    {
     "data": {
      "text/plain": [
       "switchABC2 (generic function with 1 method)"
      ]
     },
     "execution_count": 73,
     "metadata": {},
     "output_type": "execute_result"
    }
   ],
   "source": [
    "function switchABC2(line) \n",
    "    a = line[1]\n",
    "    x = line[2]\n",
    "    a == \"A\" && x == \"X\"  ? 0 + 3 : # X = 0 -> loose \n",
    "    a == \"A\" && x == \"Y\"  ? 3 + 1 :\n",
    "    a == \"A\" && x == \"Z\"  ? 6 + 2 :\n",
    "    a == \"B\" && x == \"X\"  ? 0 + 1 : # X = 0 -> loose \n",
    "    a == \"B\" && x == \"Y\"  ? 3 + 2 :\n",
    "    a == \"B\" && x == \"Z\"  ? 6 + 3 : \n",
    "    a == \"C\" && x == \"X\"  ? 0 + 2 : # X = 0 -> loose \n",
    "    a == \"C\" && x == \"Y\"  ? 3 + 3 :\n",
    "    a == \"C\" && x == \"Z\"  ? 6 + 1 :\n",
    "    0\n",
    "end"
   ]
  },
  {
   "cell_type": "code",
   "execution_count": 74,
   "id": "2b9bb5b0-6c03-4a71-b775-fa9a8d8e20c9",
   "metadata": {},
   "outputs": [
    {
     "data": {
      "text/plain": [
       "2500-element Vector{Int64}:\n",
       " 7\n",
       " 7\n",
       " 3\n",
       " 3\n",
       " 9\n",
       " 9\n",
       " 9\n",
       " 8\n",
       " 1\n",
       " 3\n",
       " 3\n",
       " 3\n",
       " 7\n",
       " ⋮\n",
       " 3\n",
       " 3\n",
       " 6\n",
       " 1\n",
       " 2\n",
       " 8\n",
       " 8\n",
       " 3\n",
       " 7\n",
       " 6\n",
       " 7\n",
       " 6"
      ]
     },
     "execution_count": 74,
     "metadata": {},
     "output_type": "execute_result"
    }
   ],
   "source": [
    "s2 = [switchABC2(x)  for x in m]"
   ]
  },
  {
   "cell_type": "code",
   "execution_count": 75,
   "id": "dac42288-4076-4650-88cf-07f3d82f5ac6",
   "metadata": {},
   "outputs": [
    {
     "data": {
      "text/plain": [
       "12382"
      ]
     },
     "execution_count": 75,
     "metadata": {},
     "output_type": "execute_result"
    }
   ],
   "source": [
    "sol2 = sum(s2)"
   ]
  },
  {
   "cell_type": "code",
   "execution_count": null,
   "id": "09062f04-e61e-452c-b7ad-86c419425119",
   "metadata": {},
   "outputs": [],
   "source": []
  }
 ],
 "metadata": {
  "kernelspec": {
   "display_name": "Julia 1.8.3",
   "language": "julia",
   "name": "julia-1.8"
  },
  "language_info": {
   "file_extension": ".jl",
   "mimetype": "application/julia",
   "name": "julia",
   "version": "1.8.3"
  }
 },
 "nbformat": 4,
 "nbformat_minor": 5
}
