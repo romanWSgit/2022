{
 "cells": [
  {
   "cell_type": "markdown",
   "id": "12baf65a-e7f3-40ea-8223-6a24bfb52169",
   "metadata": {},
   "source": [
    "# Advent of Code 2022"
   ]
  },
  {
   "cell_type": "markdown",
   "id": "4afb2fe2-4c16-467c-8ba8-76dcc7e02981",
   "metadata": {},
   "source": [
    "# Day5:\n"
   ]
  },
  {
   "cell_type": "markdown",
   "id": "cbfd63bd-5ff7-480d-a12c-db86eb5b0979",
   "metadata": {},
   "source": [
    "### Part One"
   ]
  },
  {
   "cell_type": "markdown",
   "id": "9eb93892-0fed-4f96-9139-1de0666a2422",
   "metadata": {},
   "source": [
    "import packages:"
   ]
  },
  {
   "cell_type": "code",
   "execution_count": 1,
   "id": "e953f93a-8a43-4af0-9bf0-41d2f0d18551",
   "metadata": {},
   "outputs": [],
   "source": [
    "import re\n",
    "import copy"
   ]
  },
  {
   "cell_type": "markdown",
   "id": "3f168c9d-35e6-4660-866f-e5c555dd64e0",
   "metadata": {},
   "source": [
    "additional functions:"
   ]
  },
  {
   "cell_type": "code",
   "execution_count": 2,
   "id": "985e8eaf-1b0f-4929-97f2-df362eed0e9e",
   "metadata": {},
   "outputs": [],
   "source": [
    "def convert(s):\n",
    "    str1 = \"\"\n",
    "    return(str1.join(s))"
   ]
  },
  {
   "cell_type": "markdown",
   "id": "06fcb039-800d-4313-b47b-9ac46ef2140d",
   "metadata": {},
   "source": [
    "read file:"
   ]
  },
  {
   "cell_type": "code",
   "execution_count": 3,
   "id": "5748ac21-6dd2-4b31-8447-0485819e457d",
   "metadata": {},
   "outputs": [],
   "source": [
    "with open('input.txt') as f:\n",
    "    lines = f.readlines()"
   ]
  },
  {
   "cell_type": "markdown",
   "id": "509bd021-f6fa-466f-aadb-e2918d8097fe",
   "metadata": {},
   "source": [
    "prepare Stack:"
   ]
  },
  {
   "cell_type": "code",
   "execution_count": 4,
   "id": "3d91e662-9043-4500-b3fc-3079e41069bc",
   "metadata": {},
   "outputs": [],
   "source": [
    "map_l = list(map(lambda x: x[1:-2:4],lines[0:8]))\n",
    "stack_array = list(map(list, map_l))\n",
    "stack_array_transposed = [list(x) for x in zip(*stack_array)]\n",
    "stack_array_transposed_copy = stack_array_transposed.copy() \n",
    "for i in range(9):\n",
    "       stack_array_transposed_copy[i].reverse()"
   ]
  },
  {
   "cell_type": "code",
   "execution_count": 5,
   "id": "28e0b25d-409a-443a-b4be-b488ac61ad2c",
   "metadata": {},
   "outputs": [],
   "source": [
    "working_stack= stack_array_transposed_copy.copy()"
   ]
  },
  {
   "cell_type": "code",
   "execution_count": 6,
   "id": "10d92b3d-c12b-4a42-9403-16b1d1be172d",
   "metadata": {},
   "outputs": [],
   "source": [
    "for i in range(len(working_stack)):\n",
    "    for item in working_stack[i].copy():\n",
    "        if item == ' ':\n",
    "            working_stack[i].remove(item)"
   ]
  },
  {
   "cell_type": "code",
   "execution_count": 7,
   "id": "9c6f32c0-f67f-437d-ab1d-78490f1d1058",
   "metadata": {},
   "outputs": [],
   "source": [
    "working_stack_new = copy.deepcopy(working_stack)"
   ]
  },
  {
   "cell_type": "markdown",
   "id": "d55748af-ba18-44af-8b87-4638e52729d4",
   "metadata": {},
   "source": [
    "prepare move instructions:"
   ]
  },
  {
   "cell_type": "code",
   "execution_count": 8,
   "id": "a15c2b37-42a9-409b-a6c2-a4506c7dab67",
   "metadata": {},
   "outputs": [],
   "source": [
    "move_instructions = lines[10:len(lines)]\n",
    "move_instructions_list = list(map(lambda x: list(map(int, re.findall('\\d+',x))), move_instructions))"
   ]
  },
  {
   "cell_type": "markdown",
   "id": "71700a96-15b5-4fcb-86ea-7471224db118",
   "metadata": {},
   "source": [
    "move elements:"
   ]
  },
  {
   "cell_type": "code",
   "execution_count": 9,
   "id": "17813215-c010-47cf-96e4-877c7756984c",
   "metadata": {
    "tags": []
   },
   "outputs": [],
   "source": [
    "for i in range(len(move_instructions_list)):\n",
    "    nr_of_moves = move_instructions_list[i][0]\n",
    "    #print(nr_of_moves)\n",
    "    for j in range(nr_of_moves):\n",
    "        #print(working_stack[move_instructions_list[i][1]-1])\n",
    "        save = working_stack[move_instructions_list[i][1]-1].pop()\n",
    "        working_stack[move_instructions_list[i][2]-1].append(save)"
   ]
  },
  {
   "cell_type": "markdown",
   "id": "1ff47d75-5695-4269-9591-72e79c5093df",
   "metadata": {},
   "source": [
    "prepare output:"
   ]
  },
  {
   "cell_type": "code",
   "execution_count": 10,
   "id": "38ee09fd-d5df-457e-9bde-2c39a5af9ff7",
   "metadata": {},
   "outputs": [
    {
     "name": "stdout",
     "output_type": "stream",
     "text": [
      "solution 1 :  WHTLRMZRC\n"
     ]
    }
   ],
   "source": [
    "fs_1 = working_stack.copy()\n",
    "solution_1_arr = [] \n",
    "for i in range(len(fs_1)):\n",
    "    solution_1_arr.append(fs_1[i][len(fs_1[i])-1])\n",
    "solution_1 =convert(solution_1_arr)\n",
    "print(\"solution 1 : \", solution_1)"
   ]
  },
  {
   "cell_type": "markdown",
   "id": "5aa5675b-c8c9-4cc8-af43-605d58eb523b",
   "metadata": {},
   "source": [
    "### Part Two"
   ]
  },
  {
   "cell_type": "markdown",
   "id": "d8efce8c-eaf1-4240-b4a4-7b3573f38ef8",
   "metadata": {},
   "source": [
    "move elements as a whole:"
   ]
  },
  {
   "cell_type": "code",
   "execution_count": 11,
   "id": "e01a8031-ba52-4b7a-a502-4da975e8eadf",
   "metadata": {},
   "outputs": [],
   "source": [
    "for i in range(len(move_instructions_list)):\n",
    "    nr_of_moves = move_instructions_list[i][0]\n",
    "    #print(nr_of_moves)\n",
    "    save = []\n",
    "    for j in range(nr_of_moves):\n",
    "        #print(working_stack[move_instructions_list[i][1]-1])\n",
    "        save.append(working_stack_new[move_instructions_list[i][1]-1].pop())\n",
    "    save.reverse()\n",
    "    working_stack_new[move_instructions_list[i][2]-1].append(save)\n",
    "    working_stack_new[move_instructions_list[i][2]-1] = [num for elem in working_stack_new[move_instructions_list[i][2]-1] for num in elem]"
   ]
  },
  {
   "cell_type": "markdown",
   "id": "86302480-4b10-4aca-bacf-6b7f007b197d",
   "metadata": {},
   "source": [
    "prepare output 2:"
   ]
  },
  {
   "cell_type": "code",
   "execution_count": 12,
   "id": "35b16831-b114-4dc5-96d6-3ae6e724fc2a",
   "metadata": {},
   "outputs": [
    {
     "name": "stdout",
     "output_type": "stream",
     "text": [
      "solution 2 :  GMPMLWNMG\n"
     ]
    }
   ],
   "source": [
    "fs_2 = working_stack_new.copy()\n",
    "solution_2_arr = [] \n",
    "for i in range(len(fs_2)):\n",
    "    solution_2_arr.append(fs_2[i][len(fs_2[i])-1])\n",
    "solution_2 =convert(solution_2_arr)\n",
    "print(\"solution 2 : \", solution_2)"
   ]
  }
 ],
 "metadata": {
  "kernelspec": {
   "display_name": "Python 3 (ipykernel)",
   "language": "python",
   "name": "python3"
  },
  "language_info": {
   "codemirror_mode": {
    "name": "ipython",
    "version": 3
   },
   "file_extension": ".py",
   "mimetype": "text/x-python",
   "name": "python",
   "nbconvert_exporter": "python",
   "pygments_lexer": "ipython3",
   "version": "3.10.7"
  }
 },
 "nbformat": 4,
 "nbformat_minor": 5
}
